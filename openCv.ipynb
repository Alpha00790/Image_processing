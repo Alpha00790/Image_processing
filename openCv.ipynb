{
 "cells": [
  {
   "cell_type": "code",
   "execution_count": 115,
   "metadata": {},
   "outputs": [],
   "source": [
    "import cv2\n",
    "img = cv2.imread(\"images/RGBY.jpg\")"
   ]
  },
  {
   "cell_type": "code",
   "execution_count": 116,
   "metadata": {},
   "outputs": [
    {
     "name": "stdout",
     "output_type": "stream",
     "text": [
      "(586, 415, 3)\n"
     ]
    }
   ],
   "source": [
    "print(img.shape)"
   ]
  },
  {
   "cell_type": "code",
   "execution_count": 117,
   "metadata": {},
   "outputs": [
    {
     "name": "stdout",
     "output_type": "stream",
     "text": [
      "[[[ 38   3   0]\n",
      "  [ 70  12   7]\n",
      "  [ 96   0   0]\n",
      "  ...\n",
      "  [  0  20  21]\n",
      "  [  0  20  21]\n",
      "  [  0  20  21]]\n",
      "\n",
      " [[ 65   6   4]\n",
      "  [112  29  27]\n",
      "  [152  22  22]\n",
      "  ...\n",
      "  [118 238 237]\n",
      "  [118 239 235]\n",
      "  [118 238 237]]\n",
      "\n",
      " [[101   0   0]\n",
      "  [160  30  30]\n",
      "  [208  29  30]\n",
      "  ...\n",
      "  [ 54 246 239]\n",
      "  [ 54 247 237]\n",
      "  [ 54 246 239]]\n",
      "\n",
      " ...\n",
      "\n",
      " [[  0  55   0]\n",
      "  [ 57 163  56]\n",
      "  [ 35 193  27]\n",
      "  ...\n",
      "  [ 16   6 250]\n",
      "  [ 16   6 250]\n",
      "  [ 16   6 250]]\n",
      "\n",
      " [[  0  55   0]\n",
      "  [ 57 163  56]\n",
      "  [ 35 193  27]\n",
      "  ...\n",
      "  [ 16   6 250]\n",
      "  [ 16   6 250]\n",
      "  [ 16   6 250]]\n",
      "\n",
      " [[  0  55   0]\n",
      "  [ 57 163  56]\n",
      "  [ 35 193  27]\n",
      "  ...\n",
      "  [ 16   6 250]\n",
      "  [ 16   6 250]\n",
      "  [ 16   6 250]]]\n"
     ]
    }
   ],
   "source": [
    "print(img)"
   ]
  },
  {
   "cell_type": "code",
   "execution_count": 118,
   "metadata": {},
   "outputs": [],
   "source": [
    "img = cv2.imread(\"images/RGBY.jpg\",1)"
   ]
  },
  {
   "cell_type": "code",
   "execution_count": 119,
   "metadata": {},
   "outputs": [
    {
     "name": "stdout",
     "output_type": "stream",
     "text": [
      "(586, 415, 3)\n"
     ]
    }
   ],
   "source": [
    "print(img.shape)"
   ]
  },
  {
   "cell_type": "code",
   "execution_count": 120,
   "metadata": {},
   "outputs": [
    {
     "name": "stdout",
     "output_type": "stream",
     "text": [
      "Top left [38  3  0]\n"
     ]
    }
   ],
   "source": [
    "print(\"Top left\",img[0,0])"
   ]
  },
  {
   "cell_type": "code",
   "execution_count": 121,
   "metadata": {},
   "outputs": [
    {
     "name": "stdout",
     "output_type": "stream",
     "text": [
      "uint8\n"
     ]
    }
   ],
   "source": [
    "print(img.dtype)"
   ]
  },
  {
   "cell_type": "code",
   "execution_count": 122,
   "metadata": {},
   "outputs": [],
   "source": [
    "import matplotlib.pyplot as plt\n",
    "import matplotlib.image as mpimg"
   ]
  },
  {
   "cell_type": "code",
   "execution_count": 123,
   "metadata": {},
   "outputs": [],
   "source": [
    "img1 = cv2.imread(\"images/Alpha.jpg\");"
   ]
  },
  {
   "cell_type": "code",
   "execution_count": 124,
   "metadata": {},
   "outputs": [],
   "source": [
    "# img1 = img1.convert(\"L\")\n",
    "from PIL import Image"
   ]
  },
  {
   "cell_type": "code",
   "execution_count": 125,
   "metadata": {},
   "outputs": [],
   "source": [
    "img2 = Image.open(\"images/Alpha.jpg\")"
   ]
  },
  {
   "cell_type": "code",
   "execution_count": 126,
   "metadata": {},
   "outputs": [],
   "source": [
    "img2 = img2.convert(\"L\")"
   ]
  },
  {
   "cell_type": "code",
   "execution_count": 127,
   "metadata": {},
   "outputs": [],
   "source": [
    "img2.show()"
   ]
  },
  {
   "cell_type": "code",
   "execution_count": 128,
   "metadata": {},
   "outputs": [],
   "source": [
    "# imgplot = plt.imshow(img)"
   ]
  },
  {
   "cell_type": "code",
   "execution_count": 129,
   "metadata": {},
   "outputs": [],
   "source": [
    "import cv2\n",
    "import numpy as np\n",
    "from matplotlib import pyplot as plt"
   ]
  },
  {
   "cell_type": "code",
   "execution_count": 130,
   "metadata": {},
   "outputs": [],
   "source": [
    "img2 = cv2.imread(\"images/Alpha.jpg\")"
   ]
  },
  {
   "cell_type": "code",
   "execution_count": null,
   "metadata": {},
   "outputs": [],
   "source": []
  },
  {
   "cell_type": "code",
   "execution_count": 131,
   "metadata": {},
   "outputs": [],
   "source": [
    "blur = cv2.GaussianBlur(img2,(5,5),0)"
   ]
  },
  {
   "cell_type": "code",
   "execution_count": 132,
   "metadata": {},
   "outputs": [
    {
     "name": "stdout",
     "output_type": "stream",
     "text": [
      "[[[ 78  84  91]\n",
      "  [ 80  86  93]\n",
      "  [ 87  93  97]\n",
      "  ...\n",
      "  [ 17  23  32]\n",
      "  [ 18  23  32]\n",
      "  [ 19  23  32]]\n",
      "\n",
      " [[ 76  82  90]\n",
      "  [ 78  84  91]\n",
      "  [ 84  91  95]\n",
      "  ...\n",
      "  [ 16  23  32]\n",
      "  [ 18  23  32]\n",
      "  [ 19  23  32]]\n",
      "\n",
      " [[ 72  79  86]\n",
      "  [ 73  80  87]\n",
      "  [ 78  86  91]\n",
      "  ...\n",
      "  [ 16  23  32]\n",
      "  [ 18  23  31]\n",
      "  [ 18  24  31]]\n",
      "\n",
      " ...\n",
      "\n",
      " [[ 97 162 191]\n",
      "  [ 96 161 191]\n",
      "  [ 95 160 190]\n",
      "  ...\n",
      "  [ 22  23  24]\n",
      "  [ 23  23  25]\n",
      "  [ 24  23  25]]\n",
      "\n",
      " [[ 97 161 188]\n",
      "  [ 96 161 188]\n",
      "  [ 95 160 187]\n",
      "  ...\n",
      "  [ 22  22  23]\n",
      "  [ 23  22  24]\n",
      "  [ 23  22  24]]\n",
      "\n",
      " [[ 97 161 187]\n",
      "  [ 96 161 187]\n",
      "  [ 95 160 186]\n",
      "  ...\n",
      "  [ 22  21  23]\n",
      "  [ 23  22  24]\n",
      "  [ 23  22  24]]]\n"
     ]
    }
   ],
   "source": [
    "# blur.show()\n",
    "print(blur)"
   ]
  }
 ],
 "metadata": {
  "interpreter": {
   "hash": "7d04c2ccdc77879c44c0e38a475c5c944666b751d27f26244a0b0bd35fcecd56"
  },
  "kernelspec": {
   "display_name": "Python 3.10.0 64-bit",
   "language": "python",
   "name": "python3"
  },
  "language_info": {
   "codemirror_mode": {
    "name": "ipython",
    "version": 3
   },
   "file_extension": ".py",
   "mimetype": "text/x-python",
   "name": "python",
   "nbconvert_exporter": "python",
   "pygments_lexer": "ipython3",
   "version": "3.10.0"
  },
  "orig_nbformat": 4
 },
 "nbformat": 4,
 "nbformat_minor": 2
}
